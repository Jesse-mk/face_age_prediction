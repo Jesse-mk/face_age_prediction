{
 "cells": [
  {
   "cell_type": "code",
   "execution_count": 14,
   "id": "55d6b4ca",
   "metadata": {},
   "outputs": [
    {
     "name": "stdout",
     "output_type": "stream",
     "text": [
      "The autoreload extension is already loaded. To reload it, use:\n",
      "  %reload_ext autoreload\n"
     ]
    }
   ],
   "source": [
    "import os \n",
    "import sys\n",
    "import pandas as pd\n",
    "import numpy as np\n",
    "sys.path.insert(0, \"..\")\n",
    "from PIL import Image\n",
    "import matplotlib.pyplot as plt\n",
    "from datetime import datetime\n",
    "import torch\n",
    "from main import load_in_loss\n",
    "from utils import load_in_model, convert_types\n",
    "from dataset_utils import create_datasets\n",
    "from main import run_one_epoch\n",
    "# import re\n",
    "%load_ext autoreload\n",
    "%autoreload\n",
    "os.environ[\"CUDA_VISIBLE_DEVICES\"] = \"1\"\n"
   ]
  },
  {
   "cell_type": "code",
   "execution_count": 15,
   "id": "3b6f3148",
   "metadata": {},
   "outputs": [],
   "source": [
    "def load_in_mask_info(exp_name):\n",
    "    mask_info = None\n",
    "    if \"1CHANNEL\" in exp_name:\n",
    "        mask_info = \"1CHANNEL\"\n",
    "    elif \"5CHANNEL\" in exp_name:\n",
    "        mask_info = \"5CHANNEL\"\n",
    "    elif \"BOX\" in exp_name:\n",
    "        mask_info = \"BOX\"\n",
    "    else:\n",
    "        mask_info = None\n",
    "        \n",
    "    if \"premask\" in exp_name:\n",
    "        pre_mask = 1\n",
    "    else:\n",
    "        pre_mask = 0\n",
    "    return mask_info, pre_mask"
   ]
  },
  {
   "cell_type": "code",
   "execution_count": 56,
   "id": "7f15824b",
   "metadata": {},
   "outputs": [],
   "source": [
    "def create_lap_eval_dict(data_dir, exp_name, finetune=False):\n",
    "    log_dir = os.path.join(data_dir, \"logs\")\n",
    "    model_dir = os.path.join(data_dir, \"models\")\n",
    "    \n",
    "    #get tracker with all hyperparamters:\n",
    "    tracker_csv_path = os.path.join(log_dir, \"exp_tracker.csv\")\n",
    "    tracker = pd.read_csv(tracker_csv_path)\n",
    "    \n",
    "    #get model from previously trained experiment\n",
    "    load_model = os.path.join(model_dir, exp_name + \".pt\")\n",
    "    \n",
    "    #construction of args dict to make sure similar hyperparameters (OTHER THAN LR AND DROPOUT)\n",
    "    args_dict = tracker[tracker[\"exp_name\"] == exp_name].iloc[0]#.to_dict()\n",
    "    args_dict = args_dict.drop([\"date\"])\n",
    "    \n",
    "    #for fine tuning set it small\n",
    "    args_dict[\"lr\"] = .00001\n",
    "    args_dict[\"dropout\"] = 0.33\n",
    "\n",
    "    #add on eval script at front\n",
    "    args_dict[\"date\"] = datetime.now().date().strftime(\"%D\")\n",
    "    #load in mask info based on name\n",
    "    args_dict[\"mask_info\"], args_dict[\"pre_mask\"] = load_in_mask_info(exp_name)\n",
    "\n",
    "    #get lap dataset evaluation\n",
    "    args_dict[\"data_source\"] = \"lap\"\n",
    "    if finetune:\n",
    "        args_dict[\"exp_name\"] = \"LAP_finetune_\" + args_dict[\"exp_name\"] \n",
    "    else:\n",
    "        args_dict[\"exp_name\"] = \"LAP_eval_\" + args_dict[\"exp_name\"] \n",
    "        \n",
    "    #load in model\n",
    "    args_dict[\"load_model\"] = load_model\n",
    "    args_dict[\"transform\"] = None\n",
    "\n",
    "    #newer experiments have data_dir not model_dir, but just in case.\n",
    "    try:\n",
    "        data_dir = args_dict[\"model_dir\"].split(\"models\")[0]\n",
    "        args_dict = args_dict.drop([\"log_csv_path\", \"logs_dir\", \"model_dir\"])\n",
    "        args_dict[\"data_dir\"] = data_dir\n",
    "    except:\n",
    "        pass\n",
    "    args_dict[\"scheduler_type\"] = None\n",
    "    args_dict[\"bs\"] = 64\n",
    "    args_dict[\"num_workers\"] = 8\n",
    "    \n",
    "    return args_dict"
   ]
  },
  {
   "cell_type": "code",
   "execution_count": 57,
   "id": "9679f582",
   "metadata": {},
   "outputs": [],
   "source": [
    "def eval_model_lap(exp_name, data_dir=\"/home/jessekim\"):\n",
    "    #get similar args\n",
    "    args = convert_types(create_lap_eval_dict(data_dir=data_dir, exp_name=exp_name, finetune=False))\n",
    "\n",
    "    #get the model\n",
    "    model = load_in_model(\n",
    "    args.model_type, args.output_type, args.loss_type, args.dropout, args.mask_info, args.pre_mask, args.load_model\n",
    "    )\n",
    "    \n",
    "    # add to device (GPU vs CPU) and parallelize it\n",
    "    if torch.cuda.device_count() > 1:\n",
    "        print('Using', torch.cuda.device_count(), 'GPUs')\n",
    "        model = nn.DataParallel(model)\n",
    "        # model = torch.nn.parallel.DistributedDataParallel(model, device_ids=[], output_device=None)\n",
    "    model = model.to(args.device)\n",
    "    \n",
    "    #get loss\n",
    "    loss = load_in_loss(args.loss_type)\n",
    "    \n",
    "    #get test loader\n",
    "    test_loader = create_datasets(\n",
    "        dataset_type=\"test\",\n",
    "        data_dir=args.data_dir,\n",
    "        transform=args.transform,\n",
    "        mask_info=args.mask_info,\n",
    "        bs=64,\n",
    "        shuffle=True,\n",
    "        num_workers=8,\n",
    "        data_source=args.data_source,\n",
    "    )\n",
    "\n",
    "    model, test_loss_vals, test_mae_vals, test_acc = run_one_epoch(\n",
    "        model,\n",
    "        test_loader,\n",
    "        optimizer=None,\n",
    "        mask_info=args.mask_info,\n",
    "        scheduler=None,\n",
    "        loss=loss,\n",
    "        train=False,\n",
    "        device=args.device,\n",
    "        output_type=args.output_type,\n",
    "        loss_type=args.loss_type,\n",
    "    )\n",
    "    return test_loss_vals, test_mae_vals, test_acc"
   ]
  },
  {
   "cell_type": "code",
   "execution_count": 58,
   "id": "339f35e7",
   "metadata": {},
   "outputs": [],
   "source": [
    "from main import train"
   ]
  },
  {
   "cell_type": "code",
   "execution_count": null,
   "id": "afaccf64",
   "metadata": {},
   "outputs": [],
   "source": [
    "%%time\n",
    "exp_name = \"ViT_NLL_NOMASK_40DROP_lr.0001\"\n",
    "data_dir = \"/home/jessekim\"\n",
    "\n",
    "def finetune_on_lap(data_dir = \"/home/jessekim\",  exp_name):\n",
    "    #get args dict from original experiment\n",
    "    args = create_lap_eval_dict(data_dir=data_dir, exp_name=exp_name, finetune=True)\n",
    "    \n",
    "    logs_dir = os.path.join(args[\"data_dir\"], \"logs\")\n",
    "    log_csv_path = os.path.join(logs_dir, \"lap_exp_tracker.csv\")\n",
    "\n",
    "    # logging:\n",
    "    setup_exp(log_csv_path, logs_dir, args[\"exp_name\"])\n",
    "    # add experiment to experiment tracker:\n",
    "    log_experiment(log_csv_path, args)\n",
    "    \n",
    "    train(**args)"
   ]
  },
  {
   "cell_type": "code",
   "execution_count": 60,
   "id": "2a72f459",
   "metadata": {},
   "outputs": [],
   "source": []
  },
  {
   "cell_type": "code",
   "execution_count": 31,
   "id": "1bc00d1f",
   "metadata": {},
   "outputs": [
    {
     "name": "stdout",
     "output_type": "stream",
     "text": [
      "4.564251419036619 7.351155404121645 0.06370070778564206\n",
      "CPU times: user 3.16 s, sys: 1.36 s, total: 4.52 s\n",
      "Wall time: 30.9 s\n"
     ]
    }
   ],
   "source": [
    "%%time\n",
    "\n",
    "## for ViT_NLL_NOMASK_40DROP_lr.0001\n",
    "\n",
    "# validation\n",
    "model, valid_loss_vals, valid_mae_vals, valid_acc = run_one_epoch(\n",
    "    model,\n",
    "    test_loader,\n",
    "    optimizer=None,\n",
    "    mask_info=args.mask_info,\n",
    "    scheduler=None,\n",
    "    loss=loss,\n",
    "    train=False,\n",
    "    device=args.device,\n",
    "    output_type=args.output_type,\n",
    "    loss_type=args.loss_type,\n",
    ")\n",
    "\n",
    "log each epoch:\n",
    "log_output(\n",
    "    exp_name,\n",
    "    logs_dir,\n",
    "    epoch,\n",
    "    valid_loss_vals,\n",
    "    valid_mae_vals,\n",
    "    valid_acc,\n",
    "    \"valid\",\n",
    ")\n",
    "\n",
    "print(valid_loss_vals, valid_mae_vals, valid_acc)"
   ]
  },
  {
   "cell_type": "markdown",
   "id": "c9c78fc4",
   "metadata": {},
   "source": [
    "#### Generation of LAP csvs:"
   ]
  },
  {
   "cell_type": "code",
   "execution_count": 4,
   "id": "32a41512",
   "metadata": {},
   "outputs": [],
   "source": [
    "lap_path = \"../../data/appa-real-release\"\n",
    "#original csvs from release\n",
    "train_csv = os.path.join(lap_path, \"gt_train.csv\")\n",
    "valid_csv = os.path.join(lap_path, \"gt_valid.csv\")\n",
    "test_csv = os.path.join(lap_path, \"gt_test.csv\")\n",
    "\n",
    "#newly created csvs\n",
    "new_train_csv = os.path.join(lap_path, \"train.csv\")\n",
    "new_valid_csv = os.path.join(lap_path, \"valid.csv\")\n",
    "new_test_csv = os.path.join(lap_path, \"test.csv\")\n",
    "\n",
    "\n",
    "train_path = os.path.join(lap_path, \"train\")\n"
   ]
  },
  {
   "cell_type": "code",
   "execution_count": null,
   "id": "5107af20",
   "metadata": {},
   "outputs": [],
   "source": []
  },
  {
   "cell_type": "code",
   "execution_count": 5,
   "id": "6432eed3",
   "metadata": {},
   "outputs": [],
   "source": [
    "lap_path = \"../../data/appa-real-release\"\n",
    "train_csv = os.path.join(lap_path, \"gt_train.csv\")\n",
    "valid_csv = os.path.join(lap_path, \"gt_valid.csv\")\n",
    "test_csv = os.path.join(lap_path, \"gt_test.csv\")"
   ]
  },
  {
   "cell_type": "code",
   "execution_count": 6,
   "id": "65810e17",
   "metadata": {},
   "outputs": [
    {
     "ename": "NameError",
     "evalue": "name 'im' is not defined",
     "output_type": "error",
     "traceback": [
      "\u001b[0;31m---------------------------------------------------------------------------\u001b[0m",
      "\u001b[0;31mNameError\u001b[0m                                 Traceback (most recent call last)",
      "\u001b[0;32m/tmp/ipykernel_3366925/3537752612.py\u001b[0m in \u001b[0;36m<module>\u001b[0;34m\u001b[0m\n\u001b[0;32m----> 1\u001b[0;31m \u001b[0mplt\u001b[0m\u001b[0;34m.\u001b[0m\u001b[0mimshow\u001b[0m\u001b[0;34m(\u001b[0m\u001b[0mim\u001b[0m\u001b[0;34m.\u001b[0m\u001b[0mpermute\u001b[0m\u001b[0;34m(\u001b[0m\u001b[0;36m1\u001b[0m\u001b[0;34m,\u001b[0m\u001b[0;36m2\u001b[0m\u001b[0;34m,\u001b[0m\u001b[0;36m0\u001b[0m\u001b[0;34m)\u001b[0m\u001b[0;34m)\u001b[0m\u001b[0;34m\u001b[0m\u001b[0;34m\u001b[0m\u001b[0m\n\u001b[0m",
      "\u001b[0;31mNameError\u001b[0m: name 'im' is not defined"
     ]
    }
   ],
   "source": [
    "plt.imshow(im.permute(1,2,0))"
   ]
  },
  {
   "cell_type": "code",
   "execution_count": 7,
   "id": "35249037",
   "metadata": {},
   "outputs": [],
   "source": [
    "gt_train = pd.read_csv(os.path.join(lap_path, \"gt_train.csv\"))"
   ]
  },
  {
   "cell_type": "code",
   "execution_count": 10,
   "id": "ec6770a7",
   "metadata": {},
   "outputs": [
    {
     "data": {
      "text/plain": [
       "1"
      ]
     },
     "execution_count": 10,
     "metadata": {},
     "output_type": "execute_result"
    }
   ],
   "source": [
    "gt_train[\"real_age\"].min()"
   ]
  },
  {
   "cell_type": "code",
   "execution_count": 9,
   "id": "6b1b9115",
   "metadata": {},
   "outputs": [
    {
     "data": {
      "text/html": [
       "<div>\n",
       "<style scoped>\n",
       "    .dataframe tbody tr th:only-of-type {\n",
       "        vertical-align: middle;\n",
       "    }\n",
       "\n",
       "    .dataframe tbody tr th {\n",
       "        vertical-align: top;\n",
       "    }\n",
       "\n",
       "    .dataframe thead th {\n",
       "        text-align: right;\n",
       "    }\n",
       "</style>\n",
       "<table border=\"1\" class=\"dataframe\">\n",
       "  <thead>\n",
       "    <tr style=\"text-align: right;\">\n",
       "      <th></th>\n",
       "      <th>file_name</th>\n",
       "      <th>real_age</th>\n",
       "      <th>apparent_age</th>\n",
       "      <th>worker_age</th>\n",
       "      <th>worker_gender</th>\n",
       "    </tr>\n",
       "  </thead>\n",
       "  <tbody>\n",
       "    <tr>\n",
       "      <th>0</th>\n",
       "      <td>000000.jpg</td>\n",
       "      <td>4</td>\n",
       "      <td>5</td>\n",
       "      <td>36</td>\n",
       "      <td>male</td>\n",
       "    </tr>\n",
       "    <tr>\n",
       "      <th>1</th>\n",
       "      <td>000000.jpg</td>\n",
       "      <td>4</td>\n",
       "      <td>4</td>\n",
       "      <td>38</td>\n",
       "      <td>female</td>\n",
       "    </tr>\n",
       "    <tr>\n",
       "      <th>2</th>\n",
       "      <td>000000.jpg</td>\n",
       "      <td>4</td>\n",
       "      <td>7</td>\n",
       "      <td>52</td>\n",
       "      <td>female</td>\n",
       "    </tr>\n",
       "    <tr>\n",
       "      <th>3</th>\n",
       "      <td>000000.jpg</td>\n",
       "      <td>4</td>\n",
       "      <td>5</td>\n",
       "      <td>50</td>\n",
       "      <td>male</td>\n",
       "    </tr>\n",
       "    <tr>\n",
       "      <th>4</th>\n",
       "      <td>000000.jpg</td>\n",
       "      <td>4</td>\n",
       "      <td>4</td>\n",
       "      <td>52</td>\n",
       "      <td>female</td>\n",
       "    </tr>\n",
       "    <tr>\n",
       "      <th>...</th>\n",
       "      <td>...</td>\n",
       "      <td>...</td>\n",
       "      <td>...</td>\n",
       "      <td>...</td>\n",
       "      <td>...</td>\n",
       "    </tr>\n",
       "    <tr>\n",
       "      <th>133930</th>\n",
       "      <td>004112.jpg</td>\n",
       "      <td>20</td>\n",
       "      <td>17</td>\n",
       "      <td>-1</td>\n",
       "      <td>NaN</td>\n",
       "    </tr>\n",
       "    <tr>\n",
       "      <th>133931</th>\n",
       "      <td>004112.jpg</td>\n",
       "      <td>20</td>\n",
       "      <td>20</td>\n",
       "      <td>26</td>\n",
       "      <td>NaN</td>\n",
       "    </tr>\n",
       "    <tr>\n",
       "      <th>133932</th>\n",
       "      <td>004112.jpg</td>\n",
       "      <td>20</td>\n",
       "      <td>22</td>\n",
       "      <td>31</td>\n",
       "      <td>NaN</td>\n",
       "    </tr>\n",
       "    <tr>\n",
       "      <th>133933</th>\n",
       "      <td>004112.jpg</td>\n",
       "      <td>20</td>\n",
       "      <td>19</td>\n",
       "      <td>19</td>\n",
       "      <td>NaN</td>\n",
       "    </tr>\n",
       "    <tr>\n",
       "      <th>133934</th>\n",
       "      <td>004112.jpg</td>\n",
       "      <td>20</td>\n",
       "      <td>20</td>\n",
       "      <td>24</td>\n",
       "      <td>NaN</td>\n",
       "    </tr>\n",
       "  </tbody>\n",
       "</table>\n",
       "<p>133913 rows × 5 columns</p>\n",
       "</div>"
      ],
      "text/plain": [
       "         file_name  real_age  apparent_age  worker_age worker_gender\n",
       "0       000000.jpg         4             5          36          male\n",
       "1       000000.jpg         4             4          38        female\n",
       "2       000000.jpg         4             7          52        female\n",
       "3       000000.jpg         4             5          50          male\n",
       "4       000000.jpg         4             4          52        female\n",
       "...            ...       ...           ...         ...           ...\n",
       "133930  004112.jpg        20            17          -1           NaN\n",
       "133931  004112.jpg        20            20          26           NaN\n",
       "133932  004112.jpg        20            22          31           NaN\n",
       "133933  004112.jpg        20            19          19           NaN\n",
       "133934  004112.jpg        20            20          24           NaN\n",
       "\n",
       "[133913 rows x 5 columns]"
      ]
     },
     "execution_count": 9,
     "metadata": {},
     "output_type": "execute_result"
    }
   ],
   "source": [
    "gt_train[gt_train[\"real_age\"] < 100]"
   ]
  },
  {
   "cell_type": "code",
   "execution_count": 11,
   "id": "67945a80",
   "metadata": {},
   "outputs": [],
   "source": [
    "def convert_csvs(csv_path):\n",
    "    df = pd.read_csv(csv_path)\n",
    "    df = df.groupby(\"file_name\").mean()[\"real_age\"].reset_index()\n",
    "    df[\"file_name\"] = df[\"file_name\"] + \"_face.jpg\"\n",
    "    df.columns = [\"full_path\", \"age\"]\n",
    "    df[\"age\"] = df[\"age\"].astype(int)\n",
    "    df = df[df[\"age\"] > 0]\n",
    "    df = df[df[\"age\"] < 100]\n",
    "    return df.reset_index(drop=True)"
   ]
  },
  {
   "cell_type": "code",
   "execution_count": 1,
   "id": "d14537e4",
   "metadata": {},
   "outputs": [
    {
     "ename": "NameError",
     "evalue": "name 'df' is not defined",
     "output_type": "error",
     "traceback": [
      "\u001b[0;31m---------------------------------------------------------------------------\u001b[0m",
      "\u001b[0;31mNameError\u001b[0m                                 Traceback (most recent call last)",
      "\u001b[0;32m/tmp/ipykernel_3366925/1396537375.py\u001b[0m in \u001b[0;36m<module>\u001b[0;34m\u001b[0m\n\u001b[0;32m----> 1\u001b[0;31m \u001b[0mdf\u001b[0m\u001b[0;34m\u001b[0m\u001b[0;34m\u001b[0m\u001b[0m\n\u001b[0m",
      "\u001b[0;31mNameError\u001b[0m: name 'df' is not defined"
     ]
    }
   ],
   "source": [
    "df"
   ]
  },
  {
   "cell_type": "code",
   "execution_count": 17,
   "id": "77ef12fd",
   "metadata": {},
   "outputs": [
    {
     "data": {
      "text/plain": [
       "100"
      ]
     },
     "execution_count": 17,
     "metadata": {},
     "output_type": "execute_result"
    }
   ],
   "source": [
    "convert_csvs(train_csv)[\"age\"].max()"
   ]
  },
  {
   "cell_type": "code",
   "execution_count": 300,
   "id": "8a8bdaae",
   "metadata": {},
   "outputs": [
    {
     "data": {
      "text/html": [
       "<div>\n",
       "<style scoped>\n",
       "    .dataframe tbody tr th:only-of-type {\n",
       "        vertical-align: middle;\n",
       "    }\n",
       "\n",
       "    .dataframe tbody tr th {\n",
       "        vertical-align: top;\n",
       "    }\n",
       "\n",
       "    .dataframe thead th {\n",
       "        text-align: right;\n",
       "    }\n",
       "</style>\n",
       "<table border=\"1\" class=\"dataframe\">\n",
       "  <thead>\n",
       "    <tr style=\"text-align: right;\">\n",
       "      <th></th>\n",
       "      <th>full_path</th>\n",
       "      <th>age</th>\n",
       "    </tr>\n",
       "  </thead>\n",
       "  <tbody>\n",
       "    <tr>\n",
       "      <th>0</th>\n",
       "      <td>000000.jpg_face.jpg</td>\n",
       "      <td>4</td>\n",
       "    </tr>\n",
       "    <tr>\n",
       "      <th>1</th>\n",
       "      <td>000001.jpg_face.jpg</td>\n",
       "      <td>18</td>\n",
       "    </tr>\n",
       "    <tr>\n",
       "      <th>2</th>\n",
       "      <td>000002.jpg_face.jpg</td>\n",
       "      <td>80</td>\n",
       "    </tr>\n",
       "    <tr>\n",
       "      <th>3</th>\n",
       "      <td>000003.jpg_face.jpg</td>\n",
       "      <td>50</td>\n",
       "    </tr>\n",
       "    <tr>\n",
       "      <th>4</th>\n",
       "      <td>000004.jpg_face.jpg</td>\n",
       "      <td>17</td>\n",
       "    </tr>\n",
       "    <tr>\n",
       "      <th>...</th>\n",
       "      <td>...</td>\n",
       "      <td>...</td>\n",
       "    </tr>\n",
       "    <tr>\n",
       "      <th>4108</th>\n",
       "      <td>004108.jpg_face.jpg</td>\n",
       "      <td>41</td>\n",
       "    </tr>\n",
       "    <tr>\n",
       "      <th>4109</th>\n",
       "      <td>004109.jpg_face.jpg</td>\n",
       "      <td>53</td>\n",
       "    </tr>\n",
       "    <tr>\n",
       "      <th>4110</th>\n",
       "      <td>004110.jpg_face.jpg</td>\n",
       "      <td>35</td>\n",
       "    </tr>\n",
       "    <tr>\n",
       "      <th>4111</th>\n",
       "      <td>004111.jpg_face.jpg</td>\n",
       "      <td>28</td>\n",
       "    </tr>\n",
       "    <tr>\n",
       "      <th>4112</th>\n",
       "      <td>004112.jpg_face.jpg</td>\n",
       "      <td>20</td>\n",
       "    </tr>\n",
       "  </tbody>\n",
       "</table>\n",
       "<p>4113 rows × 2 columns</p>\n",
       "</div>"
      ],
      "text/plain": [
       "                full_path  age\n",
       "0     000000.jpg_face.jpg    4\n",
       "1     000001.jpg_face.jpg   18\n",
       "2     000002.jpg_face.jpg   80\n",
       "3     000003.jpg_face.jpg   50\n",
       "4     000004.jpg_face.jpg   17\n",
       "...                   ...  ...\n",
       "4108  004108.jpg_face.jpg   41\n",
       "4109  004109.jpg_face.jpg   53\n",
       "4110  004110.jpg_face.jpg   35\n",
       "4111  004111.jpg_face.jpg   28\n",
       "4112  004112.jpg_face.jpg   20\n",
       "\n",
       "[4113 rows x 2 columns]"
      ]
     },
     "execution_count": 300,
     "metadata": {},
     "output_type": "execute_result"
    }
   ],
   "source": [
    "convert_csvs(train_csv)"
   ]
  },
  {
   "cell_type": "code",
   "execution_count": 12,
   "id": "c30fc3e3",
   "metadata": {},
   "outputs": [],
   "source": [
    "convert_csvs(train_csv).to_csv(os.path.join(lap_path, \"train.csv\"),index=False)\n",
    "convert_csvs(valid_csv).to_csv(os.path.join(lap_path, \"valid.csv\"),index=False)\n",
    "convert_csvs(test_csv).to_csv(os.path.join(lap_path, \"test.csv\"),index=False)"
   ]
  },
  {
   "cell_type": "code",
   "execution_count": 13,
   "id": "75d7ef86",
   "metadata": {},
   "outputs": [
    {
     "ename": "NameError",
     "evalue": "name 'faces' is not defined",
     "output_type": "error",
     "traceback": [
      "\u001b[0;31m---------------------------------------------------------------------------\u001b[0m",
      "\u001b[0;31mNameError\u001b[0m                                 Traceback (most recent call last)",
      "\u001b[0;32m/tmp/ipykernel_3366925/4266910347.py\u001b[0m in \u001b[0;36m<module>\u001b[0;34m\u001b[0m\n\u001b[0;32m----> 1\u001b[0;31m \u001b[0mImage\u001b[0m\u001b[0;34m.\u001b[0m\u001b[0mopen\u001b[0m\u001b[0;34m(\u001b[0m\u001b[0mos\u001b[0m\u001b[0;34m.\u001b[0m\u001b[0mpath\u001b[0m\u001b[0;34m.\u001b[0m\u001b[0mjoin\u001b[0m\u001b[0;34m(\u001b[0m\u001b[0mtrain_path\u001b[0m\u001b[0;34m,\u001b[0m \u001b[0mfaces\u001b[0m\u001b[0;34m[\u001b[0m\u001b[0;36m0\u001b[0m\u001b[0;34m]\u001b[0m\u001b[0;34m)\u001b[0m\u001b[0;34m)\u001b[0m\u001b[0;34m\u001b[0m\u001b[0;34m\u001b[0m\u001b[0m\n\u001b[0m",
      "\u001b[0;31mNameError\u001b[0m: name 'faces' is not defined"
     ]
    }
   ],
   "source": [
    "Image.open(os.path.join(train_path, faces[0]))"
   ]
  },
  {
   "cell_type": "code",
   "execution_count": 26,
   "id": "c5e49212",
   "metadata": {},
   "outputs": [],
   "source": [
    "faces = sorted([i for i in os.listdir(os.path.join(lap_path, \"train\")) if \".jpg_face.jpg\" in i ])"
   ]
  }
 ],
 "metadata": {
  "kernelspec": {
   "display_name": "Python 3 (ipykernel)",
   "language": "python",
   "name": "python3"
  },
  "language_info": {
   "codemirror_mode": {
    "name": "ipython",
    "version": 3
   },
   "file_extension": ".py",
   "mimetype": "text/x-python",
   "name": "python",
   "nbconvert_exporter": "python",
   "pygments_lexer": "ipython3",
   "version": "3.8.8"
  }
 },
 "nbformat": 4,
 "nbformat_minor": 5
}
